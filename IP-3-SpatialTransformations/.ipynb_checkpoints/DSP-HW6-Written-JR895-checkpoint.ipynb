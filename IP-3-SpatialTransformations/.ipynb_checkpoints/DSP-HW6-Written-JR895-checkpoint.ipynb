{
 "cells": [
  {
   "cell_type": "markdown",
   "id": "1bf0217b",
   "metadata": {},
   "source": [
    "# Assignment 6\n",
    "ECE5415 Applied Digital Signal Processing and Communications -\n",
    "José Patricio Reyes - jr895 - \n",
    "jr895@cornell.edu"
   ]
  },
  {
   "cell_type": "markdown",
   "id": "58af7d70",
   "metadata": {},
   "source": [
    "## Problem Set"
   ]
  },
  {
   "cell_type": "markdown",
   "id": "1bfdca9f",
   "metadata": {},
   "source": [
    "### Question 1"
   ]
  },
  {
   "cell_type": "markdown",
   "id": "615144a6",
   "metadata": {},
   "source": [
    "Consider a 3 × 3 spatial mask that averages the four closest neighbors of a pixel (m, n), but\n",
    "excludes the pixel itself from the average."
   ]
  },
  {
   "cell_type": "markdown",
   "id": "b9e1f860",
   "metadata": {},
   "source": [
    "#### I. Express the filter as a 2D array (in spatial coordinates)"
   ]
  },
  {
   "cell_type": "markdown",
   "id": "3afd624e",
   "metadata": {},
   "source": [
    "<left><img width=20% src=\"filter.png\"></left>"
   ]
  },
  {
   "cell_type": "markdown",
   "id": "f956149b",
   "metadata": {},
   "source": [
    "$$ h = \\frac{1}{4}[ [m+1,n] , [m-1, n] , [m, n+1] , [m, n-1] ] $$"
   ]
  },
  {
   "cell_type": "markdown",
   "id": "3d59dc14",
   "metadata": {},
   "source": [
    "#### II. Derive the 2D discrete Fourier transform of this filter"
   ]
  },
  {
   "cell_type": "markdown",
   "id": "8d51490c",
   "metadata": {},
   "source": [
    "We know that digital images are defined on a finite grid: [M] × [N]\n",
    "\n",
    "Considering the spatial translation property of 2D DFT, we can compute the 2D DFT of each element in the filter by translating the m and n coordinates by +- 1 as follows:\n",
    "\n",
    "$$ x(( m\\ −\\ m_{0}) ,( n\\ −\\ n_{0})) \\ \\leftarrow \\rightarrow X_{MN}( i,k) \\ e^{−2\\pi j\\left(\\frac{m_{0} i}{M} +\\frac{n_{0} k}{N}\\right)}\\\\ $$\n",
    "\n",
    "\n",
    "$$ x( m,n−1) \\ =X_{MN}( i,k) \\ e^{−2\\pi j\\left(\\frac{( 0) i}{M} +\\frac{( -1) k}{N}\\right)} =X_{MN}( i,k) \\ e^{2\\pi j( k/N)}\\\\\n",
    "x( m,n+1) \\ =X_{MN}( i,k) \\ e^{−2\\pi j\\left(\\frac{( 0) i}{M} +\\frac{( 1) k}{N}\\right)} =X_{MN}( i,k) \\ e^{-2\\pi j( k/N)}\\\\\n",
    "x( m-1,n) \\ =X_{MN}( i,k) \\ e^{−2\\pi j\\left(\\frac{( -1) i}{M} +\\frac{( 0) k}{N}\\right)} =X_{MN}( i,k) \\ e^{-2\\pi j( i/M)}\\\\\n",
    "x( m-1,n) \\ =X_{MN}( i,k) \\ e^{−2\\pi j\\left(\\frac{( 1) i}{M} +\\frac{( 0) k}{N}\\right)} =X_{MN}( i,k) \\ e^{2\\pi j( i/M)}\\\\ $$"
   ]
  },
  {
   "cell_type": "markdown",
   "id": "c2cfc2e0",
   "metadata": {},
   "source": [
    "We know that the averaging filter is composed of 2D impulses at each neighbor location and 0s elsewhere, and then divide by the number of elements (4). Therefore it can be defined as:\n",
    "\n",
    "$$h( m,n) \\ =\\ \\frac{1}{4}[ \\delta ( m,n−1) \\ +\\ \\delta ( m,n+1) \\ +\\ \\delta ( m−1,n) \\ +\\ \\delta ( m+1,n)]$$\n",
    "\n",
    "Where each element in the sum can be obtained from the previous step:\n",
    "\n",
    "\n",
    "$$\\delta ( m,n−1) \\ =e^{2\\pi j( k/N)}$$\n",
    "$$\\delta ( m,n+1) \\ =e^{-2\\pi j( k/N)}$$\n",
    "$$\\delta ( m-1,n) \\ =e^{-2\\pi j( i/M)}$$\n",
    "$$\\delta ( m-1,n) \\ =e^{2\\pi j( i/M)}$$\n",
    "\n",
    "Finally, we substitute back and simplify using trigonometric identities\n",
    "\n",
    "$$H( i,k) \\ =\\ \\frac{1}{4}\\left[ e^{2\\pi j( k/N)} \\ +\\ e^{-2\\pi j( k/N)} \\ +\\ e^{-2\\pi j( i/M)} \\ +\\ e^{2\\pi j( i/M)}\\right] $$\n",
    "\n",
    "$$H( i,k) \\ =\\ \\frac{1}{2}\\left[\\frac{e^{2\\pi j( k/N)} \\ +\\ e^{-2\\pi j( k/N)}}{2} +\\frac{e^{-2\\pi j( i/M)} \\ +\\ e^{2\\pi j( i/M)}}{2}\\right]$$\n",
    "\n",
    "The 2D DFT of the filter h(m,n) is given by\n",
    "\n",
    "$$H( i,k) \\ =\\ \\frac{cos( 2\\pi k/N) +cos( 2\\pi i/M)}{2}$$\n",
    "\n",
    "where M and N are the dimensions of the image\n"
   ]
  },
  {
   "cell_type": "markdown",
   "id": "19f97c73",
   "metadata": {},
   "source": [
    "#### III. Is this a high or low pass filter? Explain your answer."
   ]
  },
  {
   "cell_type": "markdown",
   "id": "f45a1927",
   "metadata": {},
   "source": [
    "This is a low pass filter. It is making an average, which means it is smoothing the image. In order to smooth an image you need to supress high frequencies that produce noise. Frequency on an images is given by contrast changes in a certain space. \n",
    "\n",
    "It can also be proven analytically by plugging in low frequency values (e.g i=0, k=0)\n",
    "\n",
    "$$ H(0,0) = \\frac{cos(0)+cos(0)}{2} = 1 $$\n",
    "\n",
    "and comparing against higher frequency values by moving further away from the origin to see how values decrease.\n"
   ]
  },
  {
   "cell_type": "code",
   "execution_count": null,
   "id": "08a9013c",
   "metadata": {},
   "outputs": [],
   "source": []
  }
 ],
 "metadata": {
  "kernelspec": {
   "display_name": "Python 3",
   "language": "python",
   "name": "python3"
  },
  "language_info": {
   "codemirror_mode": {
    "name": "ipython",
    "version": 3
   },
   "file_extension": ".py",
   "mimetype": "text/x-python",
   "name": "python",
   "nbconvert_exporter": "python",
   "pygments_lexer": "ipython3",
   "version": "3.8.8"
  }
 },
 "nbformat": 4,
 "nbformat_minor": 5
}
